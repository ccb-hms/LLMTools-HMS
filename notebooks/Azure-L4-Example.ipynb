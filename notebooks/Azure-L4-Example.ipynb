{
 "cells": [
  {
   "cell_type": "markdown",
   "id": "844c89eb",
   "metadata": {},
   "source": [
    "# Exercise: MedMCQA Dataset"
   ]
  },
  {
   "cell_type": "markdown",
   "id": "54851631",
   "metadata": {},
   "source": [
    "*MedMCQA dataset description*\n",
    "\n",
    "MedMCQA is a large-scale, Multiple-Choice Question Answering (MCQA) dataset designed to address real-world medical entrance exam questions.\n",
    "\n",
    "MedMCQA has more than 194k high-quality AIIMS & NEET PG entrance exam MCQs covering 2.4k healthcare topics and 21 medical subjects are collected with an average token length of 12.77 and high topical diversity.\n",
    "\n",
    "Each sample contains a question, correct answer(s), and other options which require a deeper language understanding as it tests the 10+ reasoning abilities of a model across a wide range of medical subjects, including the followings:\n",
    "Anesthesia, Anatomy, Biochemistry, Dental, ENT, Forensic Medicine (FM), Obstetrics and Gynecology (O&G), Medicine, Microbiology, Ophthalmology, Orthopedics, Pathology, Pediatrics, Pharmacology, Physiology, Psychiatry, Radiology, Skin, Preventive & Social Medicine (PSM), Surgery.\n",
    "\n",
    "More information in Reference: https://huggingface.co/datasets/openlifescienceai/medmcqa\n",
    "\n",
    "*Exercise Description*\n",
    "\n",
    "**Objective**: Compare the performance of two large language models (LLMs) in answering questions from the MedMCQA dataset, based on the following guidelines.\n",
    "\n",
    "- **Models for Comparison**: The models being evaluated are GPT-4.1 and GPT-4O.\n",
    "\n",
    "- **Subjects to Include**: Focus on questions related to the following subjects: Dental, Pathology, Surgery, Medicine, Anaesthesia, and Radiology.\n",
    "\n",
    "- **Evaluation Metrics**:\n",
    "1. Compare the overall accuracy of both models.\n",
    "2. Compare the accuracy of each model by subject.\n",
    "\n",
    "- **Scope**: The comparison is limited to the validation dataset."
   ]
  },
  {
   "cell_type": "markdown",
   "id": "35ba0bcd",
   "metadata": {},
   "source": [
    "# Imports"
   ]
  },
  {
   "cell_type": "code",
   "execution_count": 1,
   "id": "c3978d69",
   "metadata": {},
   "outputs": [
    {
     "name": "stderr",
     "output_type": "stream",
     "text": [
      "c:\\Users\\Nidia Bucarelli\\AppData\\Local\\Programs\\Python\\Python313\\Lib\\site-packages\\tqdm\\auto.py:21: TqdmWarning: IProgress not found. Please update jupyter and ipywidgets. See https://ipywidgets.readthedocs.io/en/stable/user_install.html\n",
      "  from .autonotebook import tqdm as notebook_tqdm\n"
     ]
    }
   ],
   "source": [
    "import os\n",
    "from openai import AzureOpenAI\n",
    "import pprint\n",
    "import tqdm\n",
    "from datasets import load_dataset\n",
    "import time\n",
    "from sklearn.metrics import accuracy_score\n",
    "import pandas as pd\n",
    "import matplotlib.pyplot as plt\n",
    "import json\n",
    "# import seaborn as sns"
   ]
  },
  {
   "cell_type": "markdown",
   "id": "84041bfd",
   "metadata": {},
   "source": [
    "## Getting Started: Azure AI"
   ]
  },
  {
   "cell_type": "code",
   "execution_count": 2,
   "id": "0d2ba515",
   "metadata": {},
   "outputs": [],
   "source": [
    "# Build your client\n",
    "client = AzureOpenAI(azure_endpoint = \"https://azure-ai.hms.edu\", # http://azure-ai.hms.edu\n",
    "  api_key=  \"ce761dd8c5784b6292645116e73ac921\",  ##os.getenv(\"AZURE_OPENAI_API_KEY\"), \n",
    "  api_version=\"2024-10-21\")"
   ]
  },
  {
   "cell_type": "code",
   "execution_count": 3,
   "id": "bfa2910d",
   "metadata": {},
   "outputs": [],
   "source": [
    "#  Prompt/User input\n",
    "query = 'Tell me a joke'\n",
    "message = [\n",
    "  {\"role\": \"system\", \"content\": \"You are a helpful AI assistant.\"}, \n",
    "  {\"role\": \"user\", \"content\": f\"{query}\"}\n",
    "]"
   ]
  },
  {
   "cell_type": "code",
   "execution_count": 4,
   "id": "83b23f35",
   "metadata": {},
   "outputs": [
    {
     "name": "stdout",
     "output_type": "stream",
     "text": [
      "Sure! Here's one:\n",
      "\n",
      "Why don’t skeletons fight each other?  \n",
      "Because they don’t have the guts!\n"
     ]
    }
   ],
   "source": [
    "## Submit your request\n",
    "response = client.chat.completions.create(\n",
    "  model='gpt-4o-1120', # Model deployment id\n",
    "  messages = message,        \n",
    "  temperature=0.5, ## to control creativity\n",
    "  max_tokens=250)\n",
    "print(response.choices[0].message.content)"
   ]
  },
  {
   "cell_type": "markdown",
   "id": "9918ffdb",
   "metadata": {},
   "source": [
    "# Data Loading and Preprocessing"
   ]
  },
  {
   "cell_type": "code",
   "execution_count": 24,
   "id": "227ad14b",
   "metadata": {},
   "outputs": [
    {
     "data": {
      "text/plain": [
       "DatasetDict({\n",
       "    train: Dataset({\n",
       "        features: ['id', 'question', 'opa', 'opb', 'opc', 'opd', 'cop', 'choice_type', 'exp', 'subject_name', 'topic_name'],\n",
       "        num_rows: 182822\n",
       "    })\n",
       "    test: Dataset({\n",
       "        features: ['id', 'question', 'opa', 'opb', 'opc', 'opd', 'cop', 'choice_type', 'exp', 'subject_name', 'topic_name'],\n",
       "        num_rows: 6150\n",
       "    })\n",
       "    validation: Dataset({\n",
       "        features: ['id', 'question', 'opa', 'opb', 'opc', 'opd', 'cop', 'choice_type', 'exp', 'subject_name', 'topic_name'],\n",
       "        num_rows: 4183\n",
       "    })\n",
       "})"
      ]
     },
     "execution_count": 24,
     "metadata": {},
     "output_type": "execute_result"
    }
   ],
   "source": [
    "## Load dataset\n",
    "# https://huggingface.co/datasets/openlifescienceai/medmcqa\n",
    "# Login using e.g. `huggingface-cli login` to access this dataset\n",
    "\n",
    "data= load_dataset(\"openlifescienceai/medmcqa\")\n",
    "\n",
    "## to preview the data\n",
    "data\n"
   ]
  },
  {
   "cell_type": "code",
   "execution_count": 25,
   "id": "2597a8d2",
   "metadata": {},
   "outputs": [
    {
     "name": "stdout",
     "output_type": "stream",
     "text": [
      "(4183, 11)\n"
     ]
    }
   ],
   "source": [
    "## Convert validation dataset to dataframe\n",
    "data = data['validation'].to_pandas()\n",
    "data.head()\n",
    "\n",
    "## print data shape\n",
    "pprint.pprint(data.shape)\n"
   ]
  },
  {
   "cell_type": "code",
   "execution_count": 26,
   "id": "79431bff",
   "metadata": {},
   "outputs": [
    {
     "name": "stdout",
     "output_type": "stream",
     "text": [
      "choice_type\n",
      "single    2816\n",
      "multi     1367\n",
      "Name: count, dtype: int64\n",
      "subject_name\n",
      "Dental                          1318\n",
      "Surgery                          369\n",
      "Pathology                        337\n",
      "Medicine                         295\n",
      "Pharmacology                     243\n",
      "Pediatrics                       234\n",
      "Anatomy                          234\n",
      "Gynaecology & Obstetrics         224\n",
      "Physiology                       171\n",
      "Biochemistry                     171\n",
      "Social & Preventive Medicine     129\n",
      "Microbiology                     122\n",
      "Radiology                         69\n",
      "Forensic Medicine                 67\n",
      "Ophthalmology                     58\n",
      "ENT                               53\n",
      "Anaesthesia                       34\n",
      "Orthopaedics                      20\n",
      "Skin                              17\n",
      "Psychiatry                        16\n",
      "Unknown                            2\n",
      "Name: count, dtype: int64\n",
      "(1619, 11)\n"
     ]
    }
   ],
   "source": [
    "\n",
    "## show questions types\n",
    "pprint.pprint(data['choice_type'].value_counts())\n",
    "\n",
    "\n",
    "## show count of subjects\n",
    "pprint.pprint(data['subject_name'].value_counts())\n",
    "\n",
    "\n",
    "## Filter the dataset by:\n",
    "# Single questions\n",
    "data = data[data.choice_type =='single']\n",
    "\n",
    "\n",
    "# Subject_names : [ 'Dental', 'Pathology','Surgery', 'Medicine', 'Anaesthesia', 'Radiology']\n",
    "subject_names = [ 'Dental', 'Pathology','Surgery', 'Medicine', 'Anaesthesia', 'Radiology']\n",
    "data = data[data.subject_name.isin(subject_names)]\n",
    "\n",
    "\n",
    "# Show final data shape\n",
    "data.reset_index(inplace=True, drop=True)\n",
    "data.shape\n",
    "pprint.pprint(data.shape)\n"
   ]
  },
  {
   "cell_type": "markdown",
   "id": "97c14c07",
   "metadata": {},
   "source": [
    "# Inference"
   ]
  },
  {
   "cell_type": "code",
   "execution_count": null,
   "id": "9213667b",
   "metadata": {},
   "outputs": [],
   "source": [
    "## Helper functions to prapare data for inference\n",
    "\n",
    "def generate_message(query):\n",
    "\n",
    "    \"\"\"\n",
    "    Constructs a message for an AI assistant to answer a medical multiple-choice question.\n",
    "\n",
    "    The function returns a list of messages formatted for use with chat-based language models\n",
    "    (e.g., OpenAI's GPT API), setting the assistant's role and providing context with an example.\n",
    "\n",
    "    The assistant is instructed to act as a medical doctor and select the correct answer from \n",
    "    the given choices (A to D) without explanation.\n",
    "\n",
    "    Parameters:\n",
    "        query (str): The medical multiple-choice question formatted with options.\n",
    "\n",
    "    Returns:\n",
    "        list: A list of dictionaries representing the chat message history. It includes:\n",
    "            - A system message with detailed instructions and an example format.\n",
    "            - A user message containing the input query.\n",
    "    \"\"\"\n",
    "    instruction = '''You are a medical doctor answering real-world medical entrance exam questions. Based on your understanding of basic and clinical science, medical knowledge, and mechanisms underlying health, disease, patient care, and modes of therapy, answer the following multiple-choice question. Select one correct answer from A to D. Do not provide reasons. Only the letter of the correct answer. Follow the example below.'''\n",
    "\n",
    "    example = '''Question: Chronic urethral obstruction due to benign prismatic hyperplasia can lead to the following change in kidney parenchyma:\n",
    "    (A) Hyperplasia\n",
    "    (B) Hyperophy\n",
    "    (C) Atrophy\n",
    "    (D) Dyplasia\n",
    "    Answer: C'''\n",
    "\n",
    "\n",
    "    message = [\n",
    "    {\"role\": \"system\", \"content\": f\"You are a helpful AI assistant. {instruction} \\n\\n Example:\\n\\n{example}\"}, \n",
    "    {\"role\": \"user\", \"content\": f\"{query}\"}\n",
    "    ]\n",
    "    return message\n",
    "\n",
    "def create_query(x):\n",
    "\n",
    "    \"\"\"\n",
    "    Formats a dictionary containing a medical question and answer choices into a structured prompt.\n",
    "\n",
    "    The function accepts a dictionary with a question and four options, and returns a string \n",
    "    formatted as a multiple-choice question, suitable for passing to a language model.\n",
    "\n",
    "    Parameters:\n",
    "        x (dict): A dictionary with the following keys:\n",
    "            - 'question' (str): The question text.\n",
    "            - 'opa' (str): Option A.\n",
    "            - 'opb' (str): Option B.\n",
    "            - 'opc' (str): Option C.\n",
    "            - 'opd' (str): Option D.\n",
    "\n",
    "    Returns:\n",
    "        str: A formatted multiple-choice question string with options labeled (A) to (D).\n",
    "    \"\"\"\n",
    "\n",
    "    question = x['question']\n",
    "    option_A = x['opa']\n",
    "    option_B = x['opb']\n",
    "    option_C = x['opc']\n",
    "    option_D =  x['opd']\n",
    "    prompt = f'''Question: {question}\n",
    "    (A) {option_A}\n",
    "    (B) {option_B}\n",
    "    (C) {option_C}\n",
    "    (D) {option_D}\n",
    "    '''\n",
    "    \n",
    "    return prompt"
   ]
  },
  {
   "cell_type": "markdown",
   "id": "53d92678",
   "metadata": {},
   "source": [
    "##  Example (1 sample)\n"
   ]
  },
  {
   "cell_type": "code",
   "execution_count": 9,
   "id": "a076971a",
   "metadata": {},
   "outputs": [
    {
     "name": "stdout",
     "output_type": "stream",
     "text": [
      "('Question: A 29 yrs old woman with a pregnancy of 17 week has a 10 years old '\n",
      " 'boy with down syndrome. She does not want another down syndrome kid; best '\n",
      " 'advice to her is\\n'\n",
      " '    (A) No test is required now as her age is below 35 years\\n'\n",
      " '    (B) Ultra sound at this point of time will definitely tell her that next '\n",
      " 'baby will be down syndromic or not\\n'\n",
      " '    (C) Amniotic fluid samples plus chromosomal analysis will definitely '\n",
      " 'tell her that next baby will be down syndromic or not\\n'\n",
      " '    (D) blood screening at this point of time will clear the exact picture\\n'\n",
      " '    ')\n",
      "[{'content': 'You are a helpful AI assistant. You are a medical doctor '\n",
      "             'answering real-world medical entrance exam questions. Based on '\n",
      "             'your understanding of basic and clinical science, medical '\n",
      "             'knowledge, and mechanisms underlying health, disease, patient '\n",
      "             'care, and modes of therapy, answer the following multiple-choice '\n",
      "             'question. Select one correct answer from A to D. Do not provide '\n",
      "             'reasons. Only the letter of the correct answer. Follow the '\n",
      "             'example below. \\n'\n",
      "             '\\n'\n",
      "             ' Example:\\n'\n",
      "             '\\n'\n",
      "             'Question: Chronic urethral obstruction due to benign prismatic '\n",
      "             'hyperplasia can lead to the following change in kidney '\n",
      "             'parenchyma:\\n'\n",
      "             '    (A) Hyperplasia\\n'\n",
      "             '    (B) Hyperophy\\n'\n",
      "             '    (C) Atrophy\\n'\n",
      "             '    (D) Dyplasia\\n'\n",
      "             '    Answer: C',\n",
      "  'role': 'system'},\n",
      " {'content': 'Question: A 29 yrs old woman with a pregnancy of 17 week has a '\n",
      "             '10 years old boy with down syndrome. She does not want another '\n",
      "             'down syndrome kid; best advice to her is\\n'\n",
      "             '    (A) No test is required now as her age is below 35 years\\n'\n",
      "             '    (B) Ultra sound at this point of time will definitely tell '\n",
      "             'her that next baby will be down syndromic or not\\n'\n",
      "             '    (C) Amniotic fluid samples plus chromosomal analysis will '\n",
      "             'definitely tell her that next baby will be down syndromic or '\n",
      "             'not\\n'\n",
      "             '    (D) blood screening at this point of time will clear the '\n",
      "             'exact picture\\n'\n",
      "             '    ',\n",
      "  'role': 'user'}]\n",
      "'Answer: C'\n"
     ]
    }
   ],
   "source": [
    "\n",
    "## Step 1. Create query\n",
    "example = data.iloc[0] ## first sample/row/question\n",
    "query = create_query(example)\n",
    "## show the query\n",
    "pprint.pprint(query)\n",
    "\n",
    "## Step 2. Generate message\n",
    "message  = generate_message(query)\n",
    "## show the message\n",
    "pprint.pprint(message)\n",
    "\n",
    "\n",
    "## Step 3. Submit request\n",
    "response = client.chat.completions.create(\n",
    "  model='gpt-4o-1120', # Model deployment id\n",
    "  messages = message,        \n",
    "  temperature=0, ## <---Model should always pick the single most probable next token (i.e. greedy decoding)\n",
    "  max_tokens=250)\n",
    "\n",
    "## show the model answer\n",
    "\n",
    "pprint.pprint(response.choices[0].message.content)"
   ]
  },
  {
   "cell_type": "markdown",
   "id": "0f115ac0",
   "metadata": {},
   "source": [
    "## Full Dataset"
   ]
  },
  {
   "cell_type": "code",
   "execution_count": 10,
   "id": "bbc0c70f",
   "metadata": {},
   "outputs": [
    {
     "name": "stdout",
     "output_type": "stream",
     "text": [
      "generating inference using gpt-4o-1120...\n"
     ]
    },
    {
     "name": "stderr",
     "output_type": "stream",
     "text": [
      "Processing messages:   5%|▍         | 80/1619 [00:34<08:12,  3.12it/s]"
     ]
    },
    {
     "name": "stdout",
     "output_type": "stream",
     "text": [
      "❌ Message 62081a5c-5ffc-4a88-9aca-c9e430490e73 failed: Error code: 400 - {'error': {'message': \"The response was filtered due to the prompt triggering Azure OpenAI's content management policy. Please modify your prompt and retry. To learn more about our content filtering policies please read our documentation: https://go.microsoft.com/fwlink/?linkid=2198766\", 'type': None, 'param': 'prompt', 'code': 'content_filter', 'status': 400, 'innererror': {'code': 'ResponsibleAIPolicyViolation', 'content_filter_result': {'hate': {'filtered': False, 'severity': 'safe'}, 'jailbreak': {'filtered': False, 'detected': False}, 'self_harm': {'filtered': False, 'severity': 'safe'}, 'sexual': {'filtered': False, 'severity': 'safe'}, 'violence': {'filtered': True, 'severity': 'medium'}}}}}\n"
     ]
    },
    {
     "name": "stderr",
     "output_type": "stream",
     "text": [
      "Processing messages:   9%|▉         | 147/1619 [01:00<07:33,  3.25it/s]"
     ]
    },
    {
     "name": "stdout",
     "output_type": "stream",
     "text": [
      "❌ Message 700fb2a4-66cc-4d8e-890d-c8d0840b287f failed: Error code: 400 - {'error': {'message': \"The response was filtered due to the prompt triggering Azure OpenAI's content management policy. Please modify your prompt and retry. To learn more about our content filtering policies please read our documentation: https://go.microsoft.com/fwlink/?linkid=2198766\", 'type': None, 'param': 'prompt', 'code': 'content_filter', 'status': 400, 'innererror': {'code': 'ResponsibleAIPolicyViolation', 'content_filter_result': {'hate': {'filtered': False, 'severity': 'safe'}, 'jailbreak': {'filtered': False, 'detected': False}, 'self_harm': {'filtered': False, 'severity': 'safe'}, 'sexual': {'filtered': False, 'severity': 'safe'}, 'violence': {'filtered': True, 'severity': 'medium'}}}}}\n"
     ]
    },
    {
     "name": "stderr",
     "output_type": "stream",
     "text": [
      "Processing messages:  20%|██        | 329/1619 [02:07<06:03,  3.55it/s]"
     ]
    },
    {
     "name": "stdout",
     "output_type": "stream",
     "text": [
      "❌ Message b7507844-7679-49f9-a915-6a242af404d9 failed: Error code: 400 - {'error': {'message': \"The response was filtered due to the prompt triggering Azure OpenAI's content management policy. Please modify your prompt and retry. To learn more about our content filtering policies please read our documentation: https://go.microsoft.com/fwlink/?linkid=2198766\", 'type': None, 'param': 'prompt', 'code': 'content_filter', 'status': 400, 'innererror': {'code': 'ResponsibleAIPolicyViolation', 'content_filter_result': {'hate': {'filtered': False, 'severity': 'safe'}, 'jailbreak': {'filtered': False, 'detected': False}, 'self_harm': {'filtered': False, 'severity': 'safe'}, 'sexual': {'filtered': False, 'severity': 'safe'}, 'violence': {'filtered': True, 'severity': 'medium'}}}}}\n"
     ]
    },
    {
     "name": "stderr",
     "output_type": "stream",
     "text": [
      "Processing messages:  29%|██▊       | 462/1619 [02:57<06:43,  2.87it/s]"
     ]
    },
    {
     "name": "stdout",
     "output_type": "stream",
     "text": [
      "❌ Message 137a6893-800d-4ef6-a9b9-8e55a19b5476 failed: Error code: 400 - {'error': {'message': \"The response was filtered due to the prompt triggering Azure OpenAI's content management policy. Please modify your prompt and retry. To learn more about our content filtering policies please read our documentation: https://go.microsoft.com/fwlink/?linkid=2198766\", 'type': None, 'param': 'prompt', 'code': 'content_filter', 'status': 400, 'innererror': {'code': 'ResponsibleAIPolicyViolation', 'content_filter_result': {'hate': {'filtered': False, 'severity': 'safe'}, 'jailbreak': {'filtered': False, 'detected': False}, 'self_harm': {'filtered': False, 'severity': 'safe'}, 'sexual': {'filtered': False, 'severity': 'safe'}, 'violence': {'filtered': True, 'severity': 'medium'}}}}}\n"
     ]
    },
    {
     "name": "stderr",
     "output_type": "stream",
     "text": [
      "Processing messages:  80%|███████▉  | 1294/1619 [08:18<01:40,  3.24it/s]"
     ]
    },
    {
     "name": "stdout",
     "output_type": "stream",
     "text": [
      "❌ Message 3aed5296-d2c0-4347-8804-d85234302675 failed: Error code: 400 - {'error': {'message': \"The response was filtered due to the prompt triggering Azure OpenAI's content management policy. Please modify your prompt and retry. To learn more about our content filtering policies please read our documentation: https://go.microsoft.com/fwlink/?linkid=2198766\", 'type': None, 'param': 'prompt', 'code': 'content_filter', 'status': 400, 'innererror': {'code': 'ResponsibleAIPolicyViolation', 'content_filter_result': {'hate': {'filtered': False, 'severity': 'safe'}, 'jailbreak': {'filtered': False, 'detected': False}, 'self_harm': {'filtered': False, 'severity': 'safe'}, 'sexual': {'filtered': True, 'severity': 'high'}, 'violence': {'filtered': False, 'severity': 'safe'}}}}}\n"
     ]
    },
    {
     "name": "stderr",
     "output_type": "stream",
     "text": [
      "Processing messages:  90%|█████████ | 1462/1619 [09:17<00:46,  3.41it/s]"
     ]
    },
    {
     "name": "stdout",
     "output_type": "stream",
     "text": [
      "❌ Message abca2f84-074e-46e8-9932-d9123850b023 failed: Error code: 400 - {'error': {'message': \"The response was filtered due to the prompt triggering Azure OpenAI's content management policy. Please modify your prompt and retry. To learn more about our content filtering policies please read our documentation: https://go.microsoft.com/fwlink/?linkid=2198766\", 'type': None, 'param': 'prompt', 'code': 'content_filter', 'status': 400, 'innererror': {'code': 'ResponsibleAIPolicyViolation', 'content_filter_result': {'hate': {'filtered': False, 'severity': 'safe'}, 'jailbreak': {'filtered': False, 'detected': False}, 'self_harm': {'filtered': False, 'severity': 'safe'}, 'sexual': {'filtered': False, 'severity': 'safe'}, 'violence': {'filtered': True, 'severity': 'medium'}}}}}\n"
     ]
    },
    {
     "name": "stderr",
     "output_type": "stream",
     "text": [
      "Processing messages: 100%|██████████| 1619/1619 [10:16<00:00,  2.63it/s]\n"
     ]
    },
    {
     "name": "stdout",
     "output_type": "stream",
     "text": [
      "Execution time: 616.2613 seconds\n",
      "generating inference using gpt-4.1...\n"
     ]
    },
    {
     "name": "stderr",
     "output_type": "stream",
     "text": [
      "Processing messages:   5%|▍         | 80/1619 [00:29<08:35,  2.99it/s]"
     ]
    },
    {
     "name": "stdout",
     "output_type": "stream",
     "text": [
      "❌ Message 62081a5c-5ffc-4a88-9aca-c9e430490e73 failed: Error code: 400 - {'error': {'message': \"The response was filtered due to the prompt triggering Azure OpenAI's content management policy. Please modify your prompt and retry. To learn more about our content filtering policies please read our documentation: https://go.microsoft.com/fwlink/?linkid=2198766\", 'type': None, 'param': 'prompt', 'code': 'content_filter', 'status': 400, 'innererror': {'code': 'ResponsibleAIPolicyViolation', 'content_filter_result': {'hate': {'filtered': False, 'severity': 'safe'}, 'jailbreak': {'filtered': False, 'detected': False}, 'self_harm': {'filtered': False, 'severity': 'safe'}, 'sexual': {'filtered': False, 'severity': 'safe'}, 'violence': {'filtered': True, 'severity': 'medium'}}}}}\n"
     ]
    },
    {
     "name": "stderr",
     "output_type": "stream",
     "text": [
      "Processing messages:   9%|▉         | 147/1619 [00:56<08:44,  2.81it/s]"
     ]
    },
    {
     "name": "stdout",
     "output_type": "stream",
     "text": [
      "❌ Message 700fb2a4-66cc-4d8e-890d-c8d0840b287f failed: Error code: 400 - {'error': {'message': \"The response was filtered due to the prompt triggering Azure OpenAI's content management policy. Please modify your prompt and retry. To learn more about our content filtering policies please read our documentation: https://go.microsoft.com/fwlink/?linkid=2198766\", 'type': None, 'param': 'prompt', 'code': 'content_filter', 'status': 400, 'innererror': {'code': 'ResponsibleAIPolicyViolation', 'content_filter_result': {'hate': {'filtered': False, 'severity': 'safe'}, 'jailbreak': {'filtered': False, 'detected': False}, 'self_harm': {'filtered': False, 'severity': 'safe'}, 'sexual': {'filtered': False, 'severity': 'safe'}, 'violence': {'filtered': True, 'severity': 'medium'}}}}}\n"
     ]
    },
    {
     "name": "stderr",
     "output_type": "stream",
     "text": [
      "Processing messages:  20%|██        | 329/1619 [02:05<09:33,  2.25it/s]"
     ]
    },
    {
     "name": "stdout",
     "output_type": "stream",
     "text": [
      "❌ Message b7507844-7679-49f9-a915-6a242af404d9 failed: Error code: 400 - {'error': {'message': \"The response was filtered due to the prompt triggering Azure OpenAI's content management policy. Please modify your prompt and retry. To learn more about our content filtering policies please read our documentation: https://go.microsoft.com/fwlink/?linkid=2198766\", 'type': None, 'param': 'prompt', 'code': 'content_filter', 'status': 400, 'innererror': {'code': 'ResponsibleAIPolicyViolation', 'content_filter_result': {'hate': {'filtered': False, 'severity': 'safe'}, 'jailbreak': {'filtered': False, 'detected': False}, 'self_harm': {'filtered': False, 'severity': 'safe'}, 'sexual': {'filtered': False, 'severity': 'safe'}, 'violence': {'filtered': True, 'severity': 'medium'}}}}}\n"
     ]
    },
    {
     "name": "stderr",
     "output_type": "stream",
     "text": [
      "Processing messages:  29%|██▊       | 462/1619 [02:56<05:58,  3.22it/s]"
     ]
    },
    {
     "name": "stdout",
     "output_type": "stream",
     "text": [
      "❌ Message 137a6893-800d-4ef6-a9b9-8e55a19b5476 failed: Error code: 400 - {'error': {'message': \"The response was filtered due to the prompt triggering Azure OpenAI's content management policy. Please modify your prompt and retry. To learn more about our content filtering policies please read our documentation: https://go.microsoft.com/fwlink/?linkid=2198766\", 'type': None, 'param': 'prompt', 'code': 'content_filter', 'status': 400, 'innererror': {'code': 'ResponsibleAIPolicyViolation', 'content_filter_result': {'hate': {'filtered': False, 'severity': 'safe'}, 'jailbreak': {'filtered': False, 'detected': False}, 'self_harm': {'filtered': False, 'severity': 'safe'}, 'sexual': {'filtered': False, 'severity': 'safe'}, 'violence': {'filtered': True, 'severity': 'medium'}}}}}\n"
     ]
    },
    {
     "name": "stderr",
     "output_type": "stream",
     "text": [
      "Processing messages:  80%|███████▉  | 1294/1619 [08:27<01:46,  3.06it/s]"
     ]
    },
    {
     "name": "stdout",
     "output_type": "stream",
     "text": [
      "❌ Message 3aed5296-d2c0-4347-8804-d85234302675 failed: Error code: 400 - {'error': {'message': \"The response was filtered due to the prompt triggering Azure OpenAI's content management policy. Please modify your prompt and retry. To learn more about our content filtering policies please read our documentation: https://go.microsoft.com/fwlink/?linkid=2198766\", 'type': None, 'param': 'prompt', 'code': 'content_filter', 'status': 400, 'innererror': {'code': 'ResponsibleAIPolicyViolation', 'content_filter_result': {'hate': {'filtered': False, 'severity': 'safe'}, 'jailbreak': {'filtered': False, 'detected': False}, 'self_harm': {'filtered': False, 'severity': 'safe'}, 'sexual': {'filtered': True, 'severity': 'high'}, 'violence': {'filtered': False, 'severity': 'safe'}}}}}\n"
     ]
    },
    {
     "name": "stderr",
     "output_type": "stream",
     "text": [
      "Processing messages:  90%|█████████ | 1462/1619 [09:30<00:49,  3.18it/s]"
     ]
    },
    {
     "name": "stdout",
     "output_type": "stream",
     "text": [
      "❌ Message abca2f84-074e-46e8-9932-d9123850b023 failed: Error code: 400 - {'error': {'message': \"The response was filtered due to the prompt triggering Azure OpenAI's content management policy. Please modify your prompt and retry. To learn more about our content filtering policies please read our documentation: https://go.microsoft.com/fwlink/?linkid=2198766\", 'type': None, 'param': 'prompt', 'code': 'content_filter', 'status': 400, 'innererror': {'code': 'ResponsibleAIPolicyViolation', 'content_filter_result': {'hate': {'filtered': False, 'severity': 'safe'}, 'jailbreak': {'filtered': False, 'detected': False}, 'self_harm': {'filtered': False, 'severity': 'safe'}, 'sexual': {'filtered': False, 'severity': 'safe'}, 'violence': {'filtered': True, 'severity': 'medium'}}}}}\n"
     ]
    },
    {
     "name": "stderr",
     "output_type": "stream",
     "text": [
      "Processing messages: 100%|██████████| 1619/1619 [10:28<00:00,  2.58it/s]"
     ]
    },
    {
     "name": "stdout",
     "output_type": "stream",
     "text": [
      "Execution time: 628.3323 seconds\n"
     ]
    },
    {
     "name": "stderr",
     "output_type": "stream",
     "text": [
      "\n"
     ]
    }
   ],
   "source": [
    "## Step 1. Create queries\n",
    "data['query'] = data.apply(create_query,axis=1)\n",
    "\n",
    "\n",
    "## Step 2. Generate messages\n",
    "queries = data['query'].values\n",
    "messages = [generate_message(query) for query in queries]\n",
    "\n",
    "\n",
    "## Step 3. Submit requests and save results\n",
    "model_ids = [\"gpt-4o-1120\",\"gpt-4.1\"]\n",
    "model_responses = {} ## to save model outputs\n",
    "for model_id in model_ids:\n",
    "    print (f'generating inference using {model_id}...')\n",
    "    responses= {} \n",
    "    start_time = time.time()\n",
    "    for message, id_ in tqdm.tqdm(zip(messages, data['id'].values),total=len(messages),desc=\"Processing messages\"):\n",
    "            try:\n",
    "                    response = client.chat.completions.create(\n",
    "                    model=model_id, # Model deployment id\n",
    "                    messages = message,        \n",
    "                    temperature=0,\n",
    "                    max_tokens=250)\n",
    "                    \n",
    "                    answer = response.choices[0].message.content\n",
    "\n",
    "                    responses[id_] = answer\n",
    "            except Exception as e: \n",
    "                    print(f\"❌ Message {id_} failed: {e}\")\n",
    "                    answer = \"Filtered or failed\"\n",
    "                    responses[id_] = answer\n",
    "                \n",
    "\n",
    "    end_time = time.time()\n",
    "    total_time = end_time - start_time\n",
    "    print(f\"Execution time: {end_time - start_time:.4f} seconds\")\n",
    "    model_responses[model_id] = responses\n",
    "    "
   ]
  },
  {
   "cell_type": "markdown",
   "id": "63f1bf35",
   "metadata": {},
   "source": [
    "**Note**  \n",
    "We are encountering these errors because certain questions are being blocked by Azure OpenAI's content filtering policies, specifically under the \"violence\" category of their Responsible AI filters.\n",
    "\n",
    "For instance, the question \"A female with suspected child abuse was brought to the casualty with severe bleeding from the perineum. What should be the first line of management?\" was flagged by the system. This is likely due to two factors: a) It references suspected child abuse, and b) It describes severe bleeding from the perineum, which may imply physical violence or sexual trauma.\n",
    "\n",
    "These topics fall into highly sensitive and regulated content areas (particularly when involving minors, violence, or sexual harm) and are therefore subject to automated filtering."
   ]
  },
  {
   "cell_type": "code",
   "execution_count": null,
   "id": "ad04d1e0",
   "metadata": {},
   "outputs": [],
   "source": [
    "# optional\n",
    "# Save data to a JSON file\n",
    "with open(\"azure-demo-LLMresponses.json\", \"w\") as json_file:\n",
    "    json.dump(model_responses, json_file, indent=4) "
   ]
  },
  {
   "cell_type": "markdown",
   "id": "b65f5411",
   "metadata": {},
   "source": [
    "# Response Processing"
   ]
  },
  {
   "cell_type": "code",
   "execution_count": 12,
   "id": "d467f1c6",
   "metadata": {},
   "outputs": [],
   "source": [
    "# Response processing\n",
    "\n",
    "# Parse the model answer.\n",
    "def extract_answer(x):\n",
    "    x = x.lower()\n",
    "    x = x.replace('answer:', '')\n",
    "    return x.strip()\n",
    "\n",
    "for model_id in model_ids:\n",
    "    parsed_answers = {} \n",
    "    responses = model_responses[model_id]\n",
    "    for id_ in responses:\n",
    "        parsed_answers[id_] =extract_answer(responses[id_])\n",
    "    data[f'pred_{model_id}'] = data['id'].map(parsed_answers)\n",
    "\n",
    "\n"
   ]
  },
  {
   "cell_type": "markdown",
   "id": "ec7fdeb4",
   "metadata": {},
   "source": [
    "## Performance Evaluation"
   ]
  },
  {
   "cell_type": "code",
   "execution_count": 13,
   "id": "c01d8e93",
   "metadata": {},
   "outputs": [
    {
     "name": "stdout",
     "output_type": "stream",
     "text": [
      "<class 'pandas.core.frame.DataFrame'>\n",
      "RangeIndex: 1619 entries, 0 to 1618\n",
      "Data columns (total 14 columns):\n",
      " #   Column            Non-Null Count  Dtype \n",
      "---  ------            --------------  ----- \n",
      " 0   id                1619 non-null   object\n",
      " 1   question          1619 non-null   object\n",
      " 2   opa               1619 non-null   object\n",
      " 3   opb               1619 non-null   object\n",
      " 4   opc               1619 non-null   object\n",
      " 5   opd               1619 non-null   object\n",
      " 6   cop               1619 non-null   int64 \n",
      " 7   choice_type       1619 non-null   object\n",
      " 8   exp               529 non-null    object\n",
      " 9   subject_name      1619 non-null   object\n",
      " 10  topic_name        99 non-null     object\n",
      " 11  query             1619 non-null   object\n",
      " 12  pred_gpt-4o-1120  1619 non-null   object\n",
      " 13  pred_gpt-4.1      1619 non-null   object\n",
      "dtypes: int64(1), object(13)\n",
      "memory usage: 177.2+ KB\n"
     ]
    }
   ],
   "source": [
    "data.info()"
   ]
  },
  {
   "cell_type": "code",
   "execution_count": null,
   "id": "9a042420",
   "metadata": {},
   "outputs": [
    {
     "name": "stdout",
     "output_type": "stream",
     "text": [
      "Overall accuracy of gpt-4o-1120: 0.7498455836936381\n",
      "Overall accuracy of gpt-4.1: 0.7578752316244596\n"
     ]
    }
   ],
   "source": [
    "## overall accuracy\n",
    "def  compute_accuracy(y_pred, y_true):\n",
    "    count=0\n",
    "    for y, yi in zip(y_pred, y_true):\n",
    "        if y==yi:\n",
    "            count +=1\n",
    "    return count/len(y_true)\n",
    "## map prediction to 0,1,2,4\n",
    "labels2ids_dict= {'a': int(0), 'b': int(1), 'c': int(2), 'd': int(3)}\n",
    "for model_id in model_ids:    \n",
    "    data[f'pred_{model_id}'] = data[f'pred_{model_id}'].map(labels2ids_dict)\n",
    "\n",
    "for model_id in model_ids:\n",
    "    y_true = data['cop']\n",
    "    y_pred = data[f'pred_{model_id}'] \n",
    "\n",
    "    overall_accuracy = compute_accuracy(y_pred, y_true)\n",
    "    print (f'Overall accuracy of {model_id}: {overall_accuracy}')"
   ]
  },
  {
   "cell_type": "code",
   "execution_count": 15,
   "id": "f1721412",
   "metadata": {},
   "outputs": [],
   "source": [
    "## Field Accuracy\n",
    "\n",
    "subject_names = [ 'Dental', 'Pathology','Surgery', 'Medicine', 'Anaesthesia', 'Radiology'] #solution_df['subject_name'].unique()\n",
    "subject_accuracyModels= {} ## to store the accuracies\n",
    "for model_id in model_ids:\n",
    "    subject_accuracy = {}\n",
    "    for subject in subject_names:\n",
    "        X = data[data['subject_name']== subject]\n",
    "        y_true = X['cop']\n",
    "        y_pred = X[f'pred_{model_id}']\n",
    "\n",
    "        accuracy =  compute_accuracy(y_true, y_pred)\n",
    "        subject_accuracy[subject] = accuracy\n",
    "    subject_accuracyModels[model_id] = subject_accuracy\n",
    "\n",
    "df_subjectAccuracies = pd.DataFrame( {model_ids[0]: subject_accuracyModels[model_ids[0]] , \n",
    "                                      model_ids[1]: subject_accuracyModels[model_ids[1]]})\n",
    "df_subjectAccuracies['Subject'] = df_subjectAccuracies.index"
   ]
  },
  {
   "cell_type": "code",
   "execution_count": null,
   "id": "53c8491b",
   "metadata": {
    "vscode": {
     "languageId": "markdown"
    }
   },
   "outputs": [
    {
     "data": {
      "text/html": [
       "<div>\n",
       "<style scoped>\n",
       "    .dataframe tbody tr th:only-of-type {\n",
       "        vertical-align: middle;\n",
       "    }\n",
       "\n",
       "    .dataframe tbody tr th {\n",
       "        vertical-align: top;\n",
       "    }\n",
       "\n",
       "    .dataframe thead th {\n",
       "        text-align: right;\n",
       "    }\n",
       "</style>\n",
       "<table border=\"1\" class=\"dataframe\">\n",
       "  <thead>\n",
       "    <tr style=\"text-align: right;\">\n",
       "      <th></th>\n",
       "      <th>gpt-4o-1120</th>\n",
       "      <th>gpt-4.1</th>\n",
       "      <th>Subject</th>\n",
       "    </tr>\n",
       "  </thead>\n",
       "  <tbody>\n",
       "    <tr>\n",
       "      <th>Dental</th>\n",
       "      <td>0.693491</td>\n",
       "      <td>0.702959</td>\n",
       "      <td>Dental</td>\n",
       "    </tr>\n",
       "    <tr>\n",
       "      <th>Pathology</th>\n",
       "      <td>0.884170</td>\n",
       "      <td>0.891892</td>\n",
       "      <td>Pathology</td>\n",
       "    </tr>\n",
       "    <tr>\n",
       "      <th>Surgery</th>\n",
       "      <td>0.730924</td>\n",
       "      <td>0.742972</td>\n",
       "      <td>Surgery</td>\n",
       "    </tr>\n",
       "    <tr>\n",
       "      <th>Medicine</th>\n",
       "      <td>0.810811</td>\n",
       "      <td>0.827027</td>\n",
       "      <td>Medicine</td>\n",
       "    </tr>\n",
       "    <tr>\n",
       "      <th>Anaesthesia</th>\n",
       "      <td>0.708333</td>\n",
       "      <td>0.708333</td>\n",
       "      <td>Anaesthesia</td>\n",
       "    </tr>\n",
       "    <tr>\n",
       "      <th>Radiology</th>\n",
       "      <td>0.877193</td>\n",
       "      <td>0.824561</td>\n",
       "      <td>Radiology</td>\n",
       "    </tr>\n",
       "  </tbody>\n",
       "</table>\n",
       "</div>"
      ],
      "text/plain": [
       "             gpt-4o-1120   gpt-4.1      Subject\n",
       "Dental          0.693491  0.702959       Dental\n",
       "Pathology       0.884170  0.891892    Pathology\n",
       "Surgery         0.730924  0.742972      Surgery\n",
       "Medicine        0.810811  0.827027     Medicine\n",
       "Anaesthesia     0.708333  0.708333  Anaesthesia\n",
       "Radiology       0.877193  0.824561    Radiology"
      ]
     },
     "execution_count": 17,
     "metadata": {},
     "output_type": "execute_result"
    }
   ],
   "source": [
    "## show performance\n",
    "df_subjectAccuracies"
   ]
  },
  {
   "cell_type": "code",
   "execution_count": 29,
   "id": "60b0760e",
   "metadata": {},
   "outputs": [
    {
     "data": {
      "image/png": "[encoded data removed]",
      "text/plain": [
       "<Figure size 640x480 with 1 Axes>"
      ]
     },
     "metadata": {},
     "output_type": "display_data"
    }
   ],
   "source": [
    "# Plot bar chart\n",
    "ax = df_subjectAccuracies.plot(kind='bar')  # each column is hue, each index is category\n",
    "plt.xlabel(\"Accuracy\")\n",
    "plt.ylabel(\"Subjects\")\n",
    "plt.title(\"Performance\")\n",
    "plt.xticks(rotation= 'horizontal')\n",
    "plt.tight_layout()\n",
    "# Remove all spines (frames)\n",
    "for spine in ax.spines.values():\n",
    "    spine.set_visible(False)\n",
    "\n",
    "plt.legend(title=\"Models\", bbox_to_anchor=(0.5, -0.15), loc='upper center', ncol=2)  # Adjust legend position\n",
    "plt.show();"
   ]
  }
 ],
 "metadata": {
  "kernelspec": {
   "display_name": "Python 3",
   "language": "python",
   "name": "python3"
  },
  "language_info": {
   "codemirror_mode": {
    "name": "ipython",
    "version": 3
   },
   "file_extension": ".py",
   "mimetype": "text/x-python",
   "name": "python",
   "nbconvert_exporter": "python",
   "pygments_lexer": "ipython3",
   "version": "3.13.3"
  }
 },
 "nbformat": 4,
 "nbformat_minor": 5
}
